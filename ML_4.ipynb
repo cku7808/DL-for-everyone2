{
  "nbformat": 4,
  "nbformat_minor": 0,
  "metadata": {
    "colab": {
      "name": "ML-4.ipynb",
      "provenance": [],
      "authorship_tag": "ABX9TyNwvZYaIzETL+jWWJDD/Njp",
      "include_colab_link": true
    },
    "kernelspec": {
      "name": "python3",
      "display_name": "Python 3"
    },
    "language_info": {
      "name": "python"
    }
  },
  "cells": [
    {
      "cell_type": "markdown",
      "metadata": {
        "id": "view-in-github",
        "colab_type": "text"
      },
      "source": [
        "<a href=\"https://colab.research.google.com/github/cku7808/DL-for-everyone2/blob/main/ML_4.ipynb\" target=\"_parent\"><img src=\"https://colab.research.google.com/assets/colab-badge.svg\" alt=\"Open In Colab\"/></a>"
      ]
    },
    {
      "cell_type": "markdown",
      "source": [
        "# Multi-Variable Linear Regression"
      ],
      "metadata": {
        "id": "JHPrKlJi4XTa"
      }
    },
    {
      "cell_type": "markdown",
      "source": [
        "## Hypothesis using Matrix"
      ],
      "metadata": {
        "id": "R_bA9JMr41ZT"
      }
    },
    {
      "cell_type": "markdown",
      "source": [
        "$H(x_1,x_2,x_3) = w_1x_1 + w_2x_2 + w_3x_3$"
      ],
      "metadata": {
        "id": "8-SbUq0x47yy"
      }
    },
    {
      "cell_type": "code",
      "source": [
        "import tensorflow as tf"
      ],
      "metadata": {
        "id": "gnO76KJh5pLx"
      },
      "execution_count": 2,
      "outputs": []
    },
    {
      "cell_type": "code",
      "execution_count": 3,
      "metadata": {
        "id": "iqSCPiMZ4Ure"
      },
      "outputs": [],
      "source": [
        "x1 = [73., 93., 89., 96., 73.]\n",
        "x2 = [80., 88., 91., 98., 66.]\n",
        "x3 = [75., 93., 90., 100., 70.]\n",
        "Y = [152., 185., 180., 196., 142.]\n",
        "\n",
        "w1 = tf.Variable(10.)\n",
        "w2 = tf.Variable(10.)\n",
        "w3 = tf.Variable(10.)\n",
        "b = tf.Variable(10.)\n",
        "\n",
        "hypothesis = w1*x1 + w2*x2 + w3*x3 + b"
      ]
    },
    {
      "cell_type": "code",
      "source": [
        "tf.random.set_seed(0)\n",
        "\n",
        "x1 = [73., 93., 89., 96., 73.]\n",
        "x2 = [80., 88., 91., 98., 66.]\n",
        "x3 = [75., 93., 90., 100., 70.]\n",
        "Y = [152., 185., 180., 196., 142.]\n",
        "\n",
        "w1 = tf.Variable(tf.random.normal([1]))\n",
        "w2 = tf.Variable(tf.random.normal([1]))\n",
        "w3 = tf.Variable(tf.random.normal([1]))\n",
        "b = tf.Variable(tf.random.normal([1]))\n",
        "\n",
        "learning_rate = 0.000001\n",
        "\n",
        "for i in range(1000+1):\n",
        "  with tf.GradientTape() as tape:\n",
        "    hypothesis = w1*x1 + w2*x2 + w3*x3 + b\n",
        "    cost = tf.reduce_mean(tf.square(hypothesis - Y))\n",
        "  w1_grad, w2_grad, w3_grad, b_grad = tape.gradient(cost, [w1,w2,w3,b])\n",
        "\n",
        "  w1.assign_sub(learning_rate * w1_grad)\n",
        "  w2.assign_sub(learning_rate * w2_grad)\n",
        "  w3.assign_sub(learning_rate * w3_grad)\n",
        "  b.assign_sub(learning_rate * b_grad)\n",
        "\n",
        "  if i%50 == 0:\n",
        "    print(\"{:5} | {:12.4f}\".format(i, cost.numpy()))"
      ],
      "metadata": {
        "colab": {
          "base_uri": "https://localhost:8080/"
        },
        "id": "8mhq9t4C5-jA",
        "outputId": "bc08f736-9068-47b4-b6cd-f842b145c415"
      },
      "execution_count": 6,
      "outputs": [
        {
          "output_type": "stream",
          "name": "stdout",
          "text": [
            "    0 |   11325.9121\n",
            "   50 |     135.3618\n",
            "  100 |      11.1817\n",
            "  150 |       9.7940\n",
            "  200 |       9.7687\n",
            "  250 |       9.7587\n",
            "  300 |       9.7489\n",
            "  350 |       9.7389\n",
            "  400 |       9.7292\n",
            "  450 |       9.7194\n",
            "  500 |       9.7096\n",
            "  550 |       9.6999\n",
            "  600 |       9.6903\n",
            "  650 |       9.6806\n",
            "  700 |       9.6709\n",
            "  750 |       9.6612\n",
            "  800 |       9.6517\n",
            "  850 |       9.6421\n",
            "  900 |       9.6325\n",
            "  950 |       9.6229\n",
            " 1000 |       9.6134\n"
          ]
        }
      ]
    },
    {
      "cell_type": "markdown",
      "source": [
        "Matrix 를 사용해보기"
      ],
      "metadata": {
        "id": "DgLaa-c28RiF"
      }
    },
    {
      "cell_type": "code",
      "source": [
        "import numpy as np\n",
        "tf.random.set_seed(0)\n",
        "\n",
        "data = np.array([\n",
        "    [73., 80., 75., 152.],\n",
        "    [93., 88., 93., 185.],\n",
        "    [89., 91., 90., 180.],\n",
        "    [96., 98., 100., 196.],\n",
        "    [73., 66., 70., 142.]\n",
        "],dtype=np.float32)\n",
        "\n",
        "X = data[:, :-1] #,를 기준으로 왼쪽은 행, 오른쪽은 열 -> 모든 행을 포함, 마지막 열을 제외\n",
        "Y = data[:, [-1]] #,를 기준으로 왼쪽은 행, 오른쪽은 열 -> 모든 행을 포함, 마지막 열만 포함\n",
        "\n",
        "W = tf.Variable(tf.random.normal([3,1])) #3행 1열의 가중치 텐서\n",
        "b = tf.Variable(tf.random.normal([1]))\n",
        "\n",
        "learning_rate = 0.000001\n",
        "\n",
        "def predict(X):\n",
        "  return tf.matmul(X,W) + b #tf.matmul : dot product 연산 (행렬 곱)\n",
        "\n",
        "n_epochs = 2000\n",
        "for i in range(n_epochs + 1):\n",
        "  with tf.GradientTape() as tape:\n",
        "    cost = tf.reduce_mean(tf.square(predict(X) - Y))\n",
        "\n",
        "  W_grad, b_grad = tape.gradient(cost, [W,b])\n",
        "\n",
        "  W.assign_sub(learning_rate * W_grad)\n",
        "  b.assign_sub(learning_rate * b_grad)\n",
        "\n",
        "  if i%100 == 0:\n",
        "    print(\"{:5} | {:10.4f}\".format(i,cost.numpy()))"
      ],
      "metadata": {
        "colab": {
          "base_uri": "https://localhost:8080/"
        },
        "id": "W34mNr8K8Tc3",
        "outputId": "fff422c7-10d0-47e4-92d1-176faea9ea24"
      },
      "execution_count": 11,
      "outputs": [
        {
          "output_type": "stream",
          "name": "stdout",
          "text": [
            "    0 |  1798.2894\n",
            "  100 |     2.2888\n",
            "  200 |     2.0632\n",
            "  300 |     2.0587\n",
            "  400 |     2.0542\n",
            "  500 |     2.0498\n",
            "  600 |     2.0454\n",
            "  700 |     2.0409\n",
            "  800 |     2.0366\n",
            "  900 |     2.0322\n",
            " 1000 |     2.0279\n",
            " 1100 |     2.0236\n",
            " 1200 |     2.0193\n",
            " 1300 |     2.0151\n",
            " 1400 |     2.0108\n",
            " 1500 |     2.0066\n",
            " 1600 |     2.0024\n",
            " 1700 |     1.9982\n",
            " 1800 |     1.9940\n",
            " 1900 |     1.9898\n",
            " 2000 |     1.9857\n"
          ]
        }
      ]
    }
  ]
}