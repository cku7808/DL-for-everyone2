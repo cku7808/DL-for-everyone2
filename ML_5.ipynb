{
  "nbformat": 4,
  "nbformat_minor": 0,
  "metadata": {
    "colab": {
      "name": "ML-5.ipynb",
      "provenance": [],
      "collapsed_sections": [],
      "authorship_tag": "ABX9TyPuxGvSG2lMIoKjHBKTqehl",
      "include_colab_link": true
    },
    "kernelspec": {
      "name": "python3",
      "display_name": "Python 3"
    },
    "language_info": {
      "name": "python"
    }
  },
  "cells": [
    {
      "cell_type": "markdown",
      "metadata": {
        "id": "view-in-github",
        "colab_type": "text"
      },
      "source": [
        "<a href=\"https://colab.research.google.com/github/cku7808/DL-for-everyone2/blob/main/ML_5.ipynb\" target=\"_parent\"><img src=\"https://colab.research.google.com/assets/colab-badge.svg\" alt=\"Open In Colab\"/></a>"
      ]
    },
    {
      "cell_type": "markdown",
      "source": [
        "# **Logistic Classification**"
      ],
      "metadata": {
        "id": "_vGuS6yQ_BmP"
      }
    },
    {
      "cell_type": "code",
      "execution_count": 1,
      "metadata": {
        "id": "QpEeUB3O2k9x",
        "colab": {
          "base_uri": "https://localhost:8080/"
        },
        "outputId": "82e81296-f6ba-4a42-85b2-ee64b9baa57d"
      },
      "outputs": [
        {
          "output_type": "stream",
          "name": "stdout",
          "text": [
            "WARNING:tensorflow:From /usr/local/lib/python3.7/dist-packages/tensorflow/python/compat/v2_compat.py:107: disable_resource_variables (from tensorflow.python.ops.variable_scope) is deprecated and will be removed in a future version.\n",
            "Instructions for updating:\n",
            "non-resource variables are not supported in the long term\n"
          ]
        }
      ],
      "source": [
        "import numpy as np\n",
        "import matplotlib.pyplot as plt\n",
        "\n",
        "import tensorflow.compat.v1 as tf # 텐서플로우 버전 1 사용\n",
        "tf.disable_v2_behavior()\n",
        "\n",
        "tf.enable_eager_execution()"
      ]
    },
    {
      "cell_type": "markdown",
      "source": [
        "DATA 준비"
      ],
      "metadata": {
        "id": "xibZdaWl_SQL"
      }
    },
    {
      "cell_type": "code",
      "source": [
        "x_train = [[1.,2.],\n",
        "           [2.,3.],\n",
        "           [3.,1.],\n",
        "           [4.,3.],\n",
        "           [5.,3.],\n",
        "           [6.,2.],]\n",
        "y_train = [[0.],\n",
        "           [0.],\n",
        "           [0.],\n",
        "           [1.],\n",
        "           [1.],\n",
        "           [1.]]\n",
        "\n",
        "x_test = [[5.,2.]]\n",
        "y_test = [[1.]]\n",
        "\n",
        "x1 = [x[0] for x in x_train] # x좌표\n",
        "x2 = [x[1] for x in x_train] # y좌표\n",
        "\n",
        "colors = [int(y[0]%3) for y in y_train]\n",
        "\n",
        "# plt.scatter : 산점도 그리기\n",
        "# plt.scatter(x,y,s,c) -> x,y는 리스트, s는 사이즈, c는 색상\n",
        "plt.scatter(x1,x2, c=colors, marker=\"^\") # marker : 마커 모양\n",
        "plt.scatter(x_test[0][0],x_test[0][1], c=\"red\")\n",
        "\n",
        "plt.xlabel(\"x1\")\n",
        "plt.ylabel(\"x2\")\n",
        "plt.show()"
      ],
      "metadata": {
        "colab": {
          "base_uri": "https://localhost:8080/",
          "height": 279
        },
        "id": "XYizX7zK_RZ9",
        "outputId": "1cf8b8de-1d1c-4da1-d8db-239d58d90880"
      },
      "execution_count": 2,
      "outputs": [
        {
          "output_type": "display_data",
          "data": {
            "text/plain": [
              "<Figure size 432x288 with 1 Axes>"
            ],
            "image/png": "[encoded data removed]"
          },
          "metadata": {
            "needs_background": "light"
          }
        }
      ]
    },
    {
      "cell_type": "markdown",
      "source": [
        "# 로지스틱 모델 구현"
      ],
      "metadata": {
        "id": "6bJj3eIvDl3c"
      }
    },
    {
      "cell_type": "markdown",
      "source": [
        "데이터 준비"
      ],
      "metadata": {
        "id": "hukdbTpFFEzp"
      }
    },
    {
      "cell_type": "code",
      "source": [
        "# from_tensor_slices : numpy array로부터 tf.data.Dataset 을 생성, 입력된 텐서로부터 slices를 생성\n",
        "# dataset.batch : 입력된 크기만큼 배치 만들기 -> 한번에 학습시킬 사이즈\n",
        "dataset = tf.data.Dataset.from_tensor_slices((x_train,y_train)).batch(len(x_train))\n",
        "print(dataset)"
      ],
      "metadata": {
        "colab": {
          "base_uri": "https://localhost:8080/"
        },
        "id": "G8AHIyYlDp5z",
        "outputId": "13e1d51d-02c7-49b2-de5e-edb7b97904f8"
      },
      "execution_count": 3,
      "outputs": [
        {
          "output_type": "stream",
          "name": "stdout",
          "text": [
            "<BatchDataset element_spec=(TensorSpec(shape=(?, 2), dtype=tf.float32, name=None), TensorSpec(shape=(?, 1), dtype=tf.float32, name=None))>\n"
          ]
        }
      ]
    },
    {
      "cell_type": "markdown",
      "source": [
        "가중치와 바이어스 값 부여"
      ],
      "metadata": {
        "id": "waabvU21FH3p"
      }
    },
    {
      "cell_type": "code",
      "source": [
        "W = tf.Variable(tf.zeros([2,1]), name=\"weight\") # 가중치\n",
        "b = tf.Variable(tf.zeros([1]), name=\"bias\") # 바이어스"
      ],
      "metadata": {
        "id": "VVJQdX5_FCeR"
      },
      "execution_count": 4,
      "outputs": []
    },
    {
      "cell_type": "markdown",
      "source": [
        "가설 함수"
      ],
      "metadata": {
        "id": "Fqsszrv_F4HB"
      }
    },
    {
      "cell_type": "markdown",
      "source": [
        "$sigmoid(x) = \\frac{1}{1+e^{-x}}$"
      ],
      "metadata": {
        "id": "36D2MuEjF63z"
      }
    },
    {
      "cell_type": "code",
      "source": [
        "def logistic_regression(features):\n",
        "  hypothesis = tf.div(1., 1. + tf.exp(tf.matmul(features, W)+b))\n",
        "  # tf.sigmoid(tf.matmul(X,W))\n",
        "\n",
        "  return hypothesis"
      ],
      "metadata": {
        "id": "w-tgolJIG7r8"
      },
      "execution_count": 5,
      "outputs": []
    },
    {
      "cell_type": "markdown",
      "source": [
        "가설을 검증할 cost function 정의"
      ],
      "metadata": {
        "id": "OueXcOIUKR_a"
      }
    },
    {
      "cell_type": "markdown",
      "source": [
        "$cost(h(x),y) = -log(h(x))\\quad if \\;\\; y=1$\n"
      ],
      "metadata": {
        "id": "VR2hEHYrKZuP"
      }
    },
    {
      "cell_type": "markdown",
      "source": [
        "$cost(h(x),y) = -log(1-h(x))\\quad if \\;\\; y=0$"
      ],
      "metadata": {
        "id": "8QTZNgcbLXgQ"
      }
    },
    {
      "cell_type": "markdown",
      "source": [
        "\n",
        "\n",
        "---\n",
        "\n"
      ],
      "metadata": {
        "id": "gnnoiiK3LZga"
      }
    },
    {
      "cell_type": "markdown",
      "source": [
        "$cost(h(x),y) = -ylog(h(x)) - (1-y)log(1-h(x))$"
      ],
      "metadata": {
        "id": "_g4r0HBaLgq3"
      }
    },
    {
      "cell_type": "code",
      "source": [
        "def loss_fn(hypothesis, features, labels):\n",
        "  cost = -tf.reduce_mean(labels * tf.log(logistic_regression(features)) + (1 - labels) * tf.log(1-logistic_regression(features)))\n",
        "  return cost\n",
        "\n",
        "optimizer = tf.train.GradientDescentOptimizer(learning_rate=0.01)"
      ],
      "metadata": {
        "id": "FSpOm97eLCN5"
      },
      "execution_count": 6,
      "outputs": []
    },
    {
      "cell_type": "markdown",
      "source": [
        "시그모이드 함수를 통해 예측값이 0.5보다 크면 1을 반환, 0.5보다 작으면 0 반환"
      ],
      "metadata": {
        "id": "HaqajEsS8lor"
      }
    },
    {
      "cell_type": "code",
      "source": [
        "def accuracy_fn(hypothesis, labels):\n",
        "  predicted = tf.cast(hypothesis > 0.5, dtype=tf.float32) # tf.cast : 텐서를 새로운 형태(data type)로 변환\n",
        "  # 조건에 따라 True==1, False==0을 반환\n",
        "  accuracy = tf.reduce_mean(tf.cast(tf.equal(predicted,labels), dtype=tf.int32)) # tf.equal : 요소 별로 같은지 비교 후 True/False 반환 -> [True, False]\n",
        "  # tf.reduce_mean : 차원을 제거하고 평균을 구함\n",
        "  # 결과값(accuracy)이 1이면 예측값과 실제값이 동일한 것\n",
        "  return accuracy"
      ],
      "metadata": {
        "id": "TATIo0H88r7A"
      },
      "execution_count": 7,
      "outputs": []
    },
    {
      "cell_type": "markdown",
      "source": [
        "GradientTape를 통해 경사값 계산"
      ],
      "metadata": {
        "id": "lk8JA1GE9Mwb"
      }
    },
    {
      "cell_type": "code",
      "source": [
        "def grad(hypothesis, features, labels): # 손실(loss, error) 계산\n",
        "  with tf.GradientTape() as tape:\n",
        "    loss_value = loss_fn(logistic_regression(features),features,labels)\n",
        "  return tape.gradient(loss_value, [W,b])"
      ],
      "metadata": {
        "id": "knAkE26U9Pwl"
      },
      "execution_count": 8,
      "outputs": []
    },
    {
      "cell_type": "markdown",
      "source": [
        "# 학습 실행"
      ],
      "metadata": {
        "id": "rfyUaS3f9kxP"
      }
    },
    {
      "cell_type": "code",
      "source": [
        "# 학습\n",
        "EPOCHS = 1001\n",
        "\n",
        "for step in range(EPOCHS):\n",
        "  for features, labels in dataset: # features == x_train, labels == y_train\n",
        "    grads = grad(logistic_regression(features), features, labels)\n",
        "    optimizer.apply_gradients(grads_and_vars=zip(grads,[W,b])) # apply_gradient : gradient 값을 통해 W,b 값을 얻어냄\n",
        "    if step % 100 == 0:\n",
        "      print(\"iter: {}, Loss: {:.4f}\".format(step, loss_fn(logistic_regression(features),features,labels)))\n",
        "\n",
        "# 검증\n",
        "test_acc = accuracy_fn(logistic_regression(x_test),y_test)\n",
        "print(\"Testset Accuracy: {:.4f}\".format(test_acc))"
      ],
      "metadata": {
        "colab": {
          "base_uri": "https://localhost:8080/"
        },
        "id": "nhGWAAxC9o9X",
        "outputId": "b995abd8-8ba8-47c4-ea56-5580b0043824"
      },
      "execution_count": 9,
      "outputs": [
        {
          "output_type": "stream",
          "name": "stdout",
          "text": [
            "WARNING:tensorflow:From /usr/local/lib/python3.7/dist-packages/tensorflow/python/util/dispatch.py:1082: div (from tensorflow.python.ops.math_ops) is deprecated and will be removed in a future version.\n",
            "Instructions for updating:\n",
            "Deprecated in favor of operator or tf.math.divide.\n",
            "iter: 0, Loss: 0.6874\n",
            "iter: 100, Loss: 0.5776\n",
            "iter: 200, Loss: 0.5349\n",
            "iter: 300, Loss: 0.5054\n",
            "iter: 400, Loss: 0.4838\n",
            "iter: 500, Loss: 0.4671\n",
            "iter: 600, Loss: 0.4535\n",
            "iter: 700, Loss: 0.4420\n",
            "iter: 800, Loss: 0.4319\n",
            "iter: 900, Loss: 0.4228\n",
            "iter: 1000, Loss: 0.4144\n",
            "Testset Accuracy: 1.0000\n"
          ]
        }
      ]
    }
  ]
}