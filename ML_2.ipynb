{
  "nbformat": 4,
  "nbformat_minor": 0,
  "metadata": {
    "colab": {
      "name": "ML-2.ipynb",
      "provenance": [],
      "collapsed_sections": [],
      "authorship_tag": "ABX9TyNAmc/vAJ+7wubNCAcelljU",
      "include_colab_link": true
    },
    "kernelspec": {
      "name": "python3",
      "display_name": "Python 3"
    },
    "language_info": {
      "name": "python"
    }
  },
  "cells": [
    {
      "cell_type": "markdown",
      "metadata": {
        "id": "view-in-github",
        "colab_type": "text"
      },
      "source": [
        "<a href=\"https://colab.research.google.com/github/cku7808/DL-for-everyone2/blob/main/ML_2.ipynb\" target=\"_parent\"><img src=\"https://colab.research.google.com/assets/colab-badge.svg\" alt=\"Open In Colab\"/></a>"
      ]
    },
    {
      "cell_type": "markdown",
      "source": [
        "# Simple Linear Regression"
      ],
      "metadata": {
        "id": "4ecino51D7Qn"
      }
    },
    {
      "cell_type": "markdown",
      "source": [
        "Build Hypothesis and cost"
      ],
      "metadata": {
        "id": "JZJ6hqkgFM4q"
      }
    },
    {
      "cell_type": "markdown",
      "source": [
        "$H(x) = Wx + b$"
      ],
      "metadata": {
        "id": "gO_14N1OF3s0"
      }
    },
    {
      "cell_type": "code",
      "source": [
        "import tensorflow as tf"
      ],
      "metadata": {
        "id": "YcbBBBojIwOC"
      },
      "execution_count": 2,
      "outputs": []
    },
    {
      "cell_type": "code",
      "execution_count": 3,
      "metadata": {
        "id": "Rmjtg18tDwYb"
      },
      "outputs": [],
      "source": [
        "x_data = [1,2,3,4,5]\n",
        "y_data = [1,2,3,4,5]\n",
        "\n",
        "W = tf.Variable(2.9) #tf.Variable : 값 변경이 가능한(mutable) 변수\n",
        "                     #tf.constant : 값 변경이 불가능한(immutable) 상수\n",
        "b = tf.Variable(0.5)\n",
        "\n",
        "hypothesis = W * x_data + b"
      ]
    },
    {
      "cell_type": "markdown",
      "source": [
        "$cost(W,b) = \\frac{1}{m}\\sum_{i=1}^{m}{(H(x^{(i)}) - y^{(i)})^2}$"
      ],
      "metadata": {
        "id": "eU-GkSCcGhau"
      }
    },
    {
      "cell_type": "code",
      "source": [
        "cost = tf.reduce_mean(tf.square(hypothesis - y_data))"
      ],
      "metadata": {
        "id": "lujSHWO6IDem"
      },
      "execution_count": 4,
      "outputs": []
    },
    {
      "cell_type": "markdown",
      "source": [
        "tf.reduce_mean()"
      ],
      "metadata": {
        "id": "qiyBUN4iJEv4"
      }
    },
    {
      "cell_type": "code",
      "source": [
        "#tf.reduce_mean : 모든 차원을 제거하고 전체의 평균을 계산\n",
        "\n",
        "v = [1.,2.,3.,4.]\n",
        "result = tf.reduce_mean(v)\n",
        "tf.print(result)"
      ],
      "metadata": {
        "colab": {
          "base_uri": "https://localhost:8080/"
        },
        "id": "JJOxb8MIJHHS",
        "outputId": "dbde50ab-6a65-42ef-dc9b-cad7d1bad1d6"
      },
      "execution_count": 5,
      "outputs": [
        {
          "output_type": "stream",
          "name": "stdout",
          "text": [
            "2.5\n"
          ]
        }
      ]
    },
    {
      "cell_type": "markdown",
      "source": [
        "tf.square()"
      ],
      "metadata": {
        "id": "bd5UpttCJZLZ"
      }
    },
    {
      "cell_type": "code",
      "source": [
        "#tf.square : 요소 단위로 제곱을 계산\n",
        "\n",
        "result = tf.square(3)\n",
        "tf.print(result)"
      ],
      "metadata": {
        "colab": {
          "base_uri": "https://localhost:8080/"
        },
        "id": "Mm-cKBu_JYwb",
        "outputId": "c9531a28-264d-4b76-cb81-66500f0696d0"
      },
      "execution_count": 6,
      "outputs": [
        {
          "output_type": "stream",
          "name": "stdout",
          "text": [
            "9\n"
          ]
        }
      ]
    },
    {
      "cell_type": "markdown",
      "source": [
        "# Gradient Descent"
      ],
      "metadata": {
        "id": "g_kzhZ65J2nC"
      }
    },
    {
      "cell_type": "code",
      "source": [
        "learning_rate = 0.01\n",
        "\n",
        "with tf.GradientTape() as tape: #tape에 계산 과정을 모두 저장\n",
        "  hypothesis = W * x_data + b\n",
        "  cost = tf.reduce_mean(tf.square(hypothesis - y_data))\n",
        "\n",
        "W_grad, b_grad = tape.gradient(cost, [W,b])#미분 -> 기울기 계산\n",
        "\n",
        "W.assign_sub(learning_rate * W_grad) #역전파\n",
        "b.assign_sub(learning_rate * b_grad) #역전파\n",
        "\n",
        "#a.assign_sub(b)\n",
        "#-> a -= b "
      ],
      "metadata": {
        "colab": {
          "base_uri": "https://localhost:8080/"
        },
        "id": "aufP8-64JYjD",
        "outputId": "a93f08fa-e8a7-4fcd-d978-9dba56a9419f"
      },
      "execution_count": 7,
      "outputs": [
        {
          "output_type": "execute_result",
          "data": {
            "text/plain": [
              "<tf.Variable 'UnreadVariable' shape=() dtype=float32, numpy=0.376>"
            ]
          },
          "metadata": {},
          "execution_count": 7
        }
      ]
    },
    {
      "cell_type": "code",
      "source": [
        "W = tf.Variable(2.9)\n",
        "b = tf.Variable(0.5)\n",
        "\n",
        "learning_rate = 0.01\n",
        "\n",
        "for i in range(100):\n",
        "  with tf.GradientTape() as tape: #tape에 계산 과정을 모두 저장\n",
        "    hypothesis = W * x_data + b\n",
        "    cost = tf.reduce_mean(tf.square(hypothesis - y_data))\n",
        "\n",
        "  W_grad, b_grad = tape.gradient(cost, [W,b])#미분 -> 기울기 계산\n",
        "\n",
        "  W.assign_sub(learning_rate * W_grad) #역전파\n",
        "  b.assign_sub(learning_rate * b_grad) #역전파\n",
        "\n",
        "  if i%10 == 0:\n",
        "    print(\"{:5}|{:10.4f}|{:10.4}|{:10.6f}\".format(i, W.numpy(), b.numpy(),cost))"
      ],
      "metadata": {
        "colab": {
          "base_uri": "https://localhost:8080/"
        },
        "id": "wfB7t2fCNajV",
        "outputId": "eda423f0-d22e-4c60-aabc-1115feec1349"
      },
      "execution_count": 8,
      "outputs": [
        {
          "output_type": "stream",
          "name": "stdout",
          "text": [
            "    0|    2.4520|     0.376| 45.660004\n",
            "   10|    1.1036|  0.003398|  0.206336\n",
            "   20|    1.0128|  -0.02091|  0.001026\n",
            "   30|    1.0065|  -0.02184|  0.000093\n",
            "   40|    1.0059|  -0.02123|  0.000083\n",
            "   50|    1.0057|  -0.02053|  0.000077\n",
            "   60|    1.0055|  -0.01984|  0.000072\n",
            "   70|    1.0053|  -0.01918|  0.000067\n",
            "   80|    1.0051|  -0.01854|  0.000063\n",
            "   90|    1.0050|  -0.01793|  0.000059\n"
          ]
        }
      ]
    },
    {
      "cell_type": "markdown",
      "source": [
        "predict"
      ],
      "metadata": {
        "id": "HsZO9N3lieFA"
      }
    },
    {
      "cell_type": "code",
      "source": [
        "print(W * 5 + b)\n",
        "print(W * 2.5 + b)"
      ],
      "metadata": {
        "colab": {
          "base_uri": "https://localhost:8080/"
        },
        "id": "wIm8rDSSifbq",
        "outputId": "e77e31b6-b72a-4de3-f0c3-4ca9abf3e46a"
      },
      "execution_count": 9,
      "outputs": [
        {
          "output_type": "stream",
          "name": "stdout",
          "text": [
            "tf.Tensor(5.0066934, shape=(), dtype=float32)\n",
            "tf.Tensor(2.4946523, shape=(), dtype=float32)\n"
          ]
        }
      ]
    }
  ]
}